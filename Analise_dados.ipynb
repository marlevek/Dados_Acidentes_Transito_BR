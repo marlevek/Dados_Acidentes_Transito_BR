{
 "cells": [
  {
   "cell_type": "code",
   "execution_count": null,
   "metadata": {},
   "outputs": [],
   "source": [
    "import pandas as pd\n",
    "import numpy as np\n",
    "import matplotlib.pyplot as plt"
   ]
  },
  {
   "cell_type": "code",
   "execution_count": null,
   "metadata": {},
   "outputs": [],
   "source": [
    "# Importando a base de dados\n",
    "dados = pd.read_csv('acidentes_transito.csv', sep=';')"
   ]
  },
  {
   "cell_type": "code",
   "execution_count": null,
   "metadata": {},
   "outputs": [],
   "source": [
    "# Visualização inicial, exploratória (5 primeiros dados)\n",
    "dados.head()"
   ]
  },
  {
   "cell_type": "code",
   "execution_count": null,
   "metadata": {},
   "outputs": [],
   "source": [
    "# Verificar se há dados faltantes\n",
    "dados.isna().sum()"
   ]
  },
  {
   "cell_type": "code",
   "execution_count": null,
   "metadata": {},
   "outputs": [],
   "source": [
    "# Calcular o número de acidentes/dia (Brasil)\n",
    "acid_dia = dados['acidentes'].sum() // 365\n",
    "acid_dia"
   ]
  },
  {
   "cell_type": "code",
   "execution_count": null,
   "metadata": {},
   "outputs": [],
   "source": [
    "# Calcular o total de óbitos\n",
    "obitos = dados['obitos'].sum()\n",
    "obitos"
   ]
  },
  {
   "cell_type": "code",
   "execution_count": null,
   "metadata": {},
   "outputs": [],
   "source": [
    "# Calcular óbitos/dia\n",
    "obitos_dia = obitos // 365\n",
    "print(obitos_dia)"
   ]
  },
  {
   "cell_type": "code",
   "execution_count": null,
   "metadata": {},
   "outputs": [],
   "source": [
    "x = (acid_dia)\n",
    "y = (obitos_dia)\n",
    "\n",
    "plt.title('Acidentes x Óbitos (diários)', fontdict={'size': 18, 'color':'darkred', 'family': 'verdana', 'weight': 'bold'})\n",
    "plt.scatter(x, y, color='darkred', s=200)\n",
    "plt.show()"
   ]
  },
  {
   "cell_type": "code",
   "execution_count": null,
   "metadata": {},
   "outputs": [],
   "source": [
    "# Mostrando colunas estado, acidentes e óbitos, ordenando do maior nro de óbitos para o menor\n",
    "dados[['estado', 'acidentes', 'obitos']].sort_values(by='obitos', ascending=False)"
   ]
  },
  {
   "cell_type": "code",
   "execution_count": null,
   "metadata": {},
   "outputs": [],
   "source": [
    "# Visualizando os 5 primeiros dados ordenados do maior número de óbitos para o menor\n",
    "data_obitos = dados[['estado', 'acidentes', 'obitos']].sort_values(by='obitos', ascending=False).head()\n",
    "data_obitos"
   ]
  },
  {
   "cell_type": "code",
   "execution_count": null,
   "metadata": {},
   "outputs": [],
   "source": [
    "# Criando nova coluna(relação óbitos/acidentes)\n",
    "data_obitos['%obitos'] = (data_obitos['obitos'] / data_obitos['acidentes'])\n",
    "data_obitos"
   ]
  },
  {
   "cell_type": "code",
   "execution_count": null,
   "metadata": {},
   "outputs": [],
   "source": [
    "# GRÁFICO DE DISPERSÃO COM %ÓBITOS POR ESTADO\n",
    "cores = np.array([\"green\",\"blue\",\"darkred\",\"yellow\",\"red\"])\n",
    "x = data_obitos['estado']\n",
    "y = data_obitos['%obitos']\n",
    "plt.scatter(x, y, s=125, c=cores)\n",
    "plt.show()"
   ]
  },
  {
   "cell_type": "markdown",
   "metadata": {},
   "source": [
    "### Analizando os dados \"data_obitos\":\n",
    "1. O estado de MG tem o maior número de acidentes, mas a porcentagem de óbito é a menor dos 5 estados listados. Isso mostra que o maior número de acidentes não tem relação direta com porcentagem de óbitos.\n",
    "2. Podemos concluir também que o estado da BA, apesar de ser o segundo estado com menor número de acidentes, teve mais porcentagem de óbitos. Ou seja, teve mais acidentes do tipo gravíssimo (com mortes) do que os outros 4 estados listados."
   ]
  }
 ],
 "metadata": {
  "interpreter": {
   "hash": "d9418d6f7a580fa2f4c5dedbb907f987bc07cf9e624d3f8228ee5c26d55a5eb5"
  },
  "kernelspec": {
   "display_name": "Python 3 (ipykernel)",
   "language": "python",
   "name": "python3"
  },
  "language_info": {
   "codemirror_mode": {
    "name": "ipython",
    "version": 3
   },
   "file_extension": ".py",
   "mimetype": "text/x-python",
   "name": "python",
   "nbconvert_exporter": "python",
   "pygments_lexer": "ipython3",
   "version": "3.10.1"
  }
 },
 "nbformat": 4,
 "nbformat_minor": 2
}
